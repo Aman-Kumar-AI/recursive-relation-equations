{
 "cells": [
  {
   "cell_type": "markdown",
   "id": "de720ffe-679c-4fc4-96e4-a991cc039d71",
   "metadata": {
    "tags": []
   },
   "source": [
    " ### 1. Find the value of T(2) for the recurrence relation T(n) = 3T(n-1) + 12n, given that T(0)=5."
   ]
  },
  {
   "cell_type": "markdown",
   "id": "4c12194d-232d-4595-b518-084a9dbfdaa3",
   "metadata": {
    "jp-MarkdownHeadingCollapsed": true,
    "tags": []
   },
   "source": [
    "##### We have:\n",
    "- T(n) = 3T(n-1) + 12n\n",
    "- T(2) = 3T(1) + 12*2\n",
    "- T(1) = 3T(0) + 12*1\n",
    "\n",
    "##### Substututing the value of T(1) in T(2) and T(0) as 5:\n",
    "##### we get:\n",
    "- T(2) = 3(3T(0) + 12*1) + 12*2\n",
    "- T(2) = 3(15 + 12) + 24\n",
    "- T(2) = 3(27) + 24\n",
    "- T(2) = 81 + 24\n",
    "- T(2) = 105"
   ]
  },
  {
   "cell_type": "markdown",
   "id": "b7866ca5-78be-431d-862e-0b3362084611",
   "metadata": {
    "tags": []
   },
   "source": [
    "### 2. Given a recurrence relation, solve it using the substitution method:"
   ]
  },
  {
   "cell_type": "markdown",
   "id": "c6e6ce46-9e61-42cc-9653-d38cbfa6b417",
   "metadata": {
    "tags": []
   },
   "source": [
    "#### a. T(n) = T(n-1) + c"
   ]
  },
  {
   "cell_type": "markdown",
   "id": "5e3d9266-53d6-446d-b862-728c69290df1",
   "metadata": {
    "tags": []
   },
   "source": [
    "##### We have:\n",
    "- T(n) = T(n-1) + c\n",
    "- T(n-1) = T(n-2) + c\n",
    "\n",
    "##### Substututing the value of T(n-1) in T(n):\n",
    "##### We get:\n",
    "- T(n) = T(n-2) + 2c\n",
    "##### Similarly if we go on doing the process till k times, we get:\n",
    "- T(n) = T(n-k) + kc\n",
    "##### Considering 1 to be base case:\n",
    "- n-k = 1\n",
    "- k= n-1\n",
    "##### Substuting the value of k in T(n):\n",
    "- T(n) = T(n-(n-1)) + (n-1)c\n",
    "- T(n) = T(1) + (n-1)c\n",
    "- T(n) = O(n)"
   ]
  },
  {
   "cell_type": "markdown",
   "id": "534f69b6-2971-4fcb-8ff7-b6e2d3ce747c",
   "metadata": {},
   "source": [
    "#### b. T(n) = 2T(n/2) + n"
   ]
  },
  {
   "cell_type": "markdown",
   "id": "f633176a-46b9-4119-aaa2-63f460869394",
   "metadata": {
    "tags": []
   },
   "source": [
    "##### We have:\n",
    "- T(n) = 2T(n/2) + n\n",
    "- T(n/2) = 2T(n/4) + n/2\n",
    "\n",
    "##### Substututing the value of T(n/2) in T(n):\n",
    "##### We get:\n",
    "- T(n) = 2(2T(n/4) + n/2) + n\n",
    "- T(n) = 4T(n/4) + 2n\n",
    "##### Similarly if we go on doing the process till k times, we get:\n",
    "- T(n) = 2^kT(n/2^k) + kn\n",
    "##### Considering 1 to be base case:\n",
    "- n/2^k = 1\n",
    "- k= log2(n)\n",
    "##### Substuting the value of k in T(n):\n",
    "- T(n) = 2^log2(n)*T(n/2^(log2(n))) + log2(n)*n\n",
    "- T(n) = n*T(1) + nlog2(n)\n",
    "- T(n) = O(nlog2(n))"
   ]
  },
  {
   "cell_type": "markdown",
   "id": "78c8c7db-3468-4af0-8f7e-257b8a18f6e6",
   "metadata": {},
   "source": [
    "#### c. T(n) = 2T(n/2) + c"
   ]
  },
  {
   "cell_type": "markdown",
   "id": "d272a040-e6f4-4e0a-a28a-fc3928be7a3c",
   "metadata": {},
   "source": [
    "##### We have:\n",
    "- T(n) = 2T(n/2) + c\n",
    "- T(n/2) = 2T(n/4) + c\n",
    "\n",
    "##### Substututing the value of T(n/2) in T(n):\n",
    "##### We get:\n",
    "- T(n) = 2(2T(n/4) + c) + c\n",
    "- T(n) = 4T(n/4) + 2c + c\n",
    "##### Similarly if we go on doing the process till k times, we get:\n",
    "- T(n) = 2^kT(n/2^k) + 2^(k-1) * c + .... + 4c + 2c + c\n",
    "##### Considering 1 to be base case:\n",
    "- n/2^k = 1\n",
    "- k= log2(n)\n",
    "##### Substuting the value of k in T(n):\n",
    "- T(n) = 2^log2(n)*T(n/2^(log2(n))) + 2^(log2(n)-1)* c+.....4c + 2c + c\n",
    "- T(n) = n*T(1) + c(2^(log2(n)-1)+ ....+ 8 + 4 + 2 + 1)\n",
    "- T(n) = nT(1)+ c(sum of gp =Sn = 1(2^(log2(n)-1) - 1) / (2 - 1) )\n",
    "- T(n) = nT(1)+ c(n/2)\n",
    "\n",
    "- T(n) = O(n)"
   ]
  },
  {
   "cell_type": "markdown",
   "id": "b7589aaf-736b-492e-884e-ca9ca208ed8d",
   "metadata": {
    "tags": []
   },
   "source": [
    "#### d. T(n) = T(n/2) + c"
   ]
  },
  {
   "cell_type": "markdown",
   "id": "c672fe5f-4649-4199-8868-d4dc872beb41",
   "metadata": {
    "tags": []
   },
   "source": [
    "##### We have:\n",
    "- T(n) = T(n/2) + c\n",
    "- T(n/2) = T(n/4) + c\n",
    "\n",
    "##### Substututing the value of T(n/2) in T(n):\n",
    "##### We get:\n",
    "- T(n) = (T(n/4) + c) + c\n",
    "- T(n) = T(n/4) + 2c\n",
    "##### Similarly if we go on doing the process till k times, we get:\n",
    "- T(n) = T(n/2^k) + kc\n",
    "##### Considering 1 to be base case:\n",
    "- n/2^k = 1\n",
    "- k= log2(n)\n",
    "##### Substuting the value of k in T(n):\n",
    "- T(n) = T(n/2^(log2(n))) + log2(n)c\n",
    "- T(n) = T(1) + log2(n)c\n",
    "\n",
    "- T(n) = O(log2(n))"
   ]
  },
  {
   "cell_type": "markdown",
   "id": "3398bba0-9d13-4c7f-986e-2645f37f3817",
   "metadata": {
    "tags": []
   },
   "source": [
    "### 3. Given a recurrence relation, solve it using the recursive tree approach:"
   ]
  },
  {
   "cell_type": "markdown",
   "id": "fefdbdf5-3e77-4fe2-9a71-3249b58137f6",
   "metadata": {
    "tags": []
   },
   "source": [
    "#### a. T(n) = 2T(n-1) +1"
   ]
  },
  {
   "cell_type": "markdown",
   "id": "863b0f17-f129-4507-a32f-d1966a99f847",
   "metadata": {
    "tags": []
   },
   "source": [
    "##### lets solve this qn using recursive tree:\n",
    "##### Here is how the tree would look:\n",
    "                       T(n)\n",
    "                      /    \\\n",
    "                T(n-1)     T(n-1)\n",
    "                /   \\       /    \\\n",
    "           T(n-2)  T(n-2) T(n-2)  T(n-2)\n",
    "             .       .      .       .\n",
    "             .       .      .       .\n",
    "             .       .      .       .\n",
    "        T(1)  T(1)  T(1)   T(1)\n",
    "##### The total number of operations is the sum of 2^i for i from 0 to n-1 (the height of the tree).\n",
    "- T(n)=1 + 2 + 4 +....+ 2^(n−1)\n",
    "\n",
    "##### This is a geometric series, and its sum can be expressed as:\n",
    "- T(n)=2^n −1\n",
    "- T(n)= O(2^n)"
   ]
  },
  {
   "cell_type": "markdown",
   "id": "e8d9fb56-794e-415e-b3d6-32d6b1b8dbab",
   "metadata": {
    "tags": []
   },
   "source": [
    "### b. T(n) = 2T(n/2) + n"
   ]
  },
  {
   "cell_type": "markdown",
   "id": "23ffc1f4-635b-42cb-8a6c-d87a69efbc47",
   "metadata": {
    "tags": []
   },
   "source": [
    "##### lets solve this qn using recursive tree:\n",
    "##### Here is how the tree would look:\n",
    "                      T(n)\n",
    "                   /         \\\n",
    "           T(n/2) + n        T(n/2) + n\n",
    "           /          \\       /          \\\n",
    " T(n/4) + n   T(n/4) + n   T(n/4) + n    T(n/4) + n\n",
    "     .            .           .             .\n",
    "     .            .           .             .\n",
    "     .            .           .             .\n",
    "   T(1) + n     T(1) + n     T(1) + n     T(1) + n\n",
    "\n",
    "##### The total number of operations is the sum of 2^i for i from 0 to n-1 (the height of the tree).\n",
    "- T(n)=n⋅(log2(n)+1)\n",
    "\n",
    "- T(n)= O(n⋅log2(n))"
   ]
  },
  {
   "cell_type": "code",
   "execution_count": null,
   "id": "34b94b2c-3f16-4a03-9e0e-7cc1330ad0a9",
   "metadata": {},
   "outputs": [],
   "source": []
  }
 ],
 "metadata": {
  "kernelspec": {
   "display_name": "Python 3 (ipykernel)",
   "language": "python",
   "name": "python3"
  },
  "language_info": {
   "codemirror_mode": {
    "name": "ipython",
    "version": 3
   },
   "file_extension": ".py",
   "mimetype": "text/x-python",
   "name": "python",
   "nbconvert_exporter": "python",
   "pygments_lexer": "ipython3",
   "version": "3.10.8"
  }
 },
 "nbformat": 4,
 "nbformat_minor": 5
}
